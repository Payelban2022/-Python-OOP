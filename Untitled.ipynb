{
 "cells": [
  {
   "cell_type": "code",
   "execution_count": 2,
   "id": "b0bfb283",
   "metadata": {},
   "outputs": [],
   "source": [
    "# Practice Python"
   ]
  },
  {
   "cell_type": "markdown",
   "id": "2abb5935",
   "metadata": {},
   "source": [
    "A function is a block of code which is executed only when it is called. To define a Python function, the def keyword is used."
   ]
  },
  {
   "cell_type": "code",
   "execution_count": 5,
   "id": "1c80cfec",
   "metadata": {},
   "outputs": [],
   "source": [
    "def Newfunc():\n",
    "    print(\"Hi, Welcome to Python\")\n",
    "    "
   ]
  },
  {
   "cell_type": "code",
   "execution_count": 6,
   "id": "a746bd4b",
   "metadata": {},
   "outputs": [
    {
     "name": "stdout",
     "output_type": "stream",
     "text": [
      "Hi, Welcome to Python\n"
     ]
    }
   ],
   "source": [
    "Newfunc()"
   ]
  },
  {
   "cell_type": "markdown",
   "id": "9cd7b6ca",
   "metadata": {},
   "source": [
    "__init__ is the method or constructor in Python. This method is automatically used to allocate memory when a new object/instance of a class is created. All classes have the __init__ method."
   ]
  },
  {
   "cell_type": "markdown",
   "id": "ec796d66",
   "metadata": {},
   "source": [
    "Self is an instance or an object of a class. In Python this is explicitly included as the first parameter. \n",
    "The self variable in the init method refers to the newly created object while in other methods."
   ]
  },
  {
   "cell_type": "code",
   "execution_count": 19,
   "id": "9b408408",
   "metadata": {},
   "outputs": [],
   "source": [
    "class Employee:\n",
    "    def __init__(self,name,age,salary):\n",
    "        self.name = name\n",
    "        self.age = age\n",
    "        self.salary = 20000"
   ]
  },
  {
   "cell_type": "code",
   "execution_count": 20,
   "id": "a9a61b6c",
   "metadata": {},
   "outputs": [],
   "source": [
    "E1 = Employee(\"Adam\", 23, 20000)"
   ]
  },
  {
   "cell_type": "code",
   "execution_count": 21,
   "id": "da1c2cd8",
   "metadata": {},
   "outputs": [
    {
     "name": "stdout",
     "output_type": "stream",
     "text": [
      "Adam\n"
     ]
    }
   ],
   "source": [
    "print(E1.name)"
   ]
  },
  {
   "cell_type": "code",
   "execution_count": 22,
   "id": "978fbe2f",
   "metadata": {},
   "outputs": [
    {
     "name": "stdout",
     "output_type": "stream",
     "text": [
      "20000\n"
     ]
    }
   ],
   "source": [
    "print(E1.salary)"
   ]
  },
  {
   "cell_type": "code",
   "execution_count": 23,
   "id": "33f93ae5",
   "metadata": {},
   "outputs": [],
   "source": [
    "E2 = Employee(\"Alex\", 25, 20000)"
   ]
  },
  {
   "cell_type": "code",
   "execution_count": 24,
   "id": "544f88c2",
   "metadata": {},
   "outputs": [
    {
     "name": "stdout",
     "output_type": "stream",
     "text": [
      "25\n"
     ]
    }
   ],
   "source": [
    "print(E2.age)"
   ]
  },
  {
   "cell_type": "markdown",
   "id": "b08043fd",
   "metadata": {},
   "source": [
    "Lambda is an anonymous function . This function can have any number of parameters but we can have only just one statement."
   ]
  },
  {
   "cell_type": "code",
   "execution_count": 25,
   "id": "0e2d6950",
   "metadata": {},
   "outputs": [
    {
     "name": "stdout",
     "output_type": "stream",
     "text": [
      "11\n"
     ]
    }
   ],
   "source": [
    "a = lambda x,y : x+y\n",
    "print(a(5,6))"
   ]
  },
  {
   "cell_type": "markdown",
   "id": "9ffc5856",
   "metadata": {},
   "source": [
    "Break statement allows loop termination when some condition is met and the control is transferred to next statement"
   ]
  },
  {
   "cell_type": "code",
   "execution_count": 28,
   "id": "7f7be304",
   "metadata": {},
   "outputs": [
    {
     "name": "stdout",
     "output_type": "stream",
     "text": [
      "0\n",
      "1\n",
      "2\n"
     ]
    }
   ],
   "source": [
    "i = 0\n",
    "while i <= 100:\n",
    "    print(i)\n",
    "    i +=1\n",
    "    if i == 3:\n",
    "        break"
   ]
  },
  {
   "cell_type": "markdown",
   "id": "1227c380",
   "metadata": {},
   "source": [
    "Continue allows skipping some part of the loop when some specific condition is met and the control is transferred to the beginning of the loop"
   ]
  },
  {
   "cell_type": "code",
   "execution_count": 30,
   "id": "990446bd",
   "metadata": {},
   "outputs": [
    {
     "name": "stdout",
     "output_type": "stream",
     "text": [
      "0\n",
      "1\n",
      "2\n",
      "4\n"
     ]
    }
   ],
   "source": [
    "for i in range (0,5):\n",
    "    if i == 3:\n",
    "        continue\n",
    "    print(i)    "
   ]
  },
  {
   "cell_type": "markdown",
   "id": "756b09df",
   "metadata": {},
   "source": [
    "Pass statement is used when you need some block of code syntactically, but you want to skip its execution. This is basically a null operation."
   ]
  },
  {
   "cell_type": "code",
   "execution_count": 36,
   "id": "5d6b9dec",
   "metadata": {},
   "outputs": [
    {
     "name": "stdout",
     "output_type": "stream",
     "text": [
      "1\n",
      "3\n",
      "5\n",
      "7\n",
      "9\n"
     ]
    }
   ],
   "source": [
    "for i in range (1,11):\n",
    "    if i % 2 == 0:\n",
    "        pass\n",
    "    else:\n",
    "        print (i)"
   ]
  },
  {
   "cell_type": "code",
   "execution_count": 40,
   "id": "2029334e",
   "metadata": {},
   "outputs": [],
   "source": [
    "# Bubble sort algorithm"
   ]
  },
  {
   "cell_type": "code",
   "execution_count": 41,
   "id": "a1dd7201",
   "metadata": {},
   "outputs": [],
   "source": [
    "def bubble(list_a):\n",
    "    indexing_length = len(list_a) - 1\n",
    "    sorted = False\n",
    "    \n",
    "    while not sorted:\n",
    "        sorted = True\n",
    "        for i in range (0, indexing_length):\n",
    "            if list_a[i] > list_a[i+ 1]:\n",
    "                sorted = False\n",
    "                list_a[i], list_a[i+1] = list_a[i+1], list_a[i]\n",
    "    return list_a            "
   ]
  },
  {
   "cell_type": "code",
   "execution_count": 43,
   "id": "ac0ee28f",
   "metadata": {},
   "outputs": [
    {
     "name": "stdout",
     "output_type": "stream",
     "text": [
      "[2, 3, 4, 5, 6, 7, 8, 8, 9]\n"
     ]
    }
   ],
   "source": [
    "print(bubble([4,6,8,3,2,5,7,8,9]))"
   ]
  },
  {
   "cell_type": "code",
   "execution_count": 44,
   "id": "0fe46d2b",
   "metadata": {},
   "outputs": [],
   "source": [
    "# Conversion from Fahrenheit to celsius"
   ]
  },
  {
   "cell_type": "code",
   "execution_count": 46,
   "id": "7496d393",
   "metadata": {},
   "outputs": [
    {
     "name": "stdout",
     "output_type": "stream",
     "text": [
      "Enter the temperature in Fahrenheit 100\n",
      "100 degree(s) Fahrenheit is 37 degree(s) Celsius\n"
     ]
    }
   ],
   "source": [
    "temp =int(input(\"Enter the temperature in Fahrenheit \"))\n",
    "celsius = (temp - 32) * 5//9\n",
    "print(f\"{temp} degree(s) Fahrenheit is {celsius} degree(s) Celsius\")"
   ]
  },
  {
   "cell_type": "code",
   "execution_count": 47,
   "id": "eb11fb1b",
   "metadata": {},
   "outputs": [],
   "source": [
    "def input_name():\n",
    "    a = input(\"Enter your name \")\n",
    "    return a"
   ]
  },
  {
   "cell_type": "code",
   "execution_count": 50,
   "id": "fae881ff",
   "metadata": {},
   "outputs": [
    {
     "name": "stdout",
     "output_type": "stream",
     "text": [
      "Enter your name Payel\n"
     ]
    },
    {
     "data": {
      "text/plain": [
       "'Payel'"
      ]
     },
     "execution_count": 50,
     "metadata": {},
     "output_type": "execute_result"
    }
   ],
   "source": [
    "input_name()"
   ]
  },
  {
   "cell_type": "code",
   "execution_count": 51,
   "id": "b600685d",
   "metadata": {},
   "outputs": [],
   "source": [
    "def greet(name):\n",
    "    print (\"Hello \" + name)"
   ]
  },
  {
   "cell_type": "code",
   "execution_count": 53,
   "id": "b47bb61d",
   "metadata": {},
   "outputs": [
    {
     "name": "stdout",
     "output_type": "stream",
     "text": [
      "Enter your name Payel\n",
      "Hello Payel\n"
     ]
    }
   ],
   "source": [
    "greet(input_name())"
   ]
  },
  {
   "cell_type": "code",
   "execution_count": 58,
   "id": "7516550e",
   "metadata": {},
   "outputs": [
    {
     "name": "stdout",
     "output_type": "stream",
     "text": [
      "1\n",
      "2\n",
      "Fizz\n",
      "4\n",
      "Buzz\n",
      "Fizz\n",
      "7\n",
      "8\n",
      "Fizz\n",
      "Buzz\n",
      "11\n",
      "Fizz\n",
      "13\n",
      "14\n",
      "FizzBuzz\n",
      "16\n",
      "17\n",
      "Fizz\n",
      "19\n",
      "Buzz\n",
      "Fizz\n",
      "22\n",
      "23\n",
      "Fizz\n",
      "Buzz\n",
      "26\n",
      "Fizz\n",
      "28\n",
      "29\n",
      "FizzBuzz\n",
      "31\n",
      "32\n",
      "Fizz\n",
      "34\n",
      "Buzz\n",
      "Fizz\n",
      "37\n",
      "38\n",
      "Fizz\n",
      "Buzz\n",
      "41\n",
      "Fizz\n",
      "43\n",
      "44\n",
      "FizzBuzz\n",
      "46\n",
      "47\n",
      "Fizz\n",
      "49\n",
      "Buzz\n",
      "Fizz\n",
      "52\n",
      "53\n",
      "Fizz\n",
      "Buzz\n",
      "56\n",
      "Fizz\n",
      "58\n",
      "59\n",
      "FizzBuzz\n",
      "61\n",
      "62\n",
      "Fizz\n",
      "64\n",
      "Buzz\n",
      "Fizz\n",
      "67\n",
      "68\n",
      "Fizz\n",
      "Buzz\n",
      "71\n",
      "Fizz\n",
      "73\n",
      "74\n",
      "FizzBuzz\n",
      "76\n",
      "77\n",
      "Fizz\n",
      "79\n",
      "Buzz\n",
      "Fizz\n",
      "82\n",
      "83\n",
      "Fizz\n",
      "Buzz\n",
      "86\n",
      "Fizz\n",
      "88\n",
      "89\n",
      "FizzBuzz\n",
      "91\n",
      "92\n",
      "Fizz\n",
      "94\n",
      "Buzz\n",
      "Fizz\n",
      "97\n",
      "98\n",
      "Fizz\n",
      "Buzz\n"
     ]
    }
   ],
   "source": [
    "for i in range(1, 101):\n",
    "    if i % 3 == 0 and i % 5 == 0:\n",
    "        print (\"FizzBuzz\")\n",
    "    elif i % 5 == 0:\n",
    "        print (\"Buzz\")\n",
    "        \n",
    "    elif i % 3 == 0 :\n",
    "        print (\"Fizz\")\n",
    "    else:\n",
    "        print(i)"
   ]
  },
  {
   "cell_type": "code",
   "execution_count": null,
   "id": "d2595e17",
   "metadata": {},
   "outputs": [],
   "source": [
    "import random\n",
    "n = random"
   ]
  }
 ],
 "metadata": {
  "kernelspec": {
   "display_name": "Python 3",
   "language": "python",
   "name": "python3"
  },
  "language_info": {
   "codemirror_mode": {
    "name": "ipython",
    "version": 3
   },
   "file_extension": ".py",
   "mimetype": "text/x-python",
   "name": "python",
   "nbconvert_exporter": "python",
   "pygments_lexer": "ipython3",
   "version": "3.8.8"
  }
 },
 "nbformat": 4,
 "nbformat_minor": 5
}
