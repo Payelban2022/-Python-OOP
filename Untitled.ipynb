{
 "cells": [
  {
   "cell_type": "code",
   "execution_count": 2,
   "id": "d304dc3c",
   "metadata": {},
   "outputs": [],
   "source": [
    "# Practice Python"
   ]
  },
  {
   "cell_type": "markdown",
   "id": "668b5773",
   "metadata": {},
   "source": [
    "A function is a block of code which is executed only when it is called. To define a Python function, the def keyword is used."
   ]
  },
  {
   "cell_type": "code",
   "execution_count": 5,
   "id": "db993276",
   "metadata": {},
   "outputs": [],
   "source": [
    "def Newfunc():\n",
    "    print(\"Hi, Welcome to Python\")\n",
    "    "
   ]
  },
  {
   "cell_type": "code",
   "execution_count": 6,
   "id": "7b444182",
   "metadata": {},
   "outputs": [
    {
     "name": "stdout",
     "output_type": "stream",
     "text": [
      "Hi, Welcome to Python\n"
     ]
    }
   ],
   "source": [
    "Newfunc()"
   ]
  },
  {
   "cell_type": "markdown",
   "id": "6d72f3de",
   "metadata": {},
   "source": [
    "__init__ is the method or constructor in Python. This method is automatically used to allocate memory when a new object/instance of a class is created. All classes have the __init__ method."
   ]
  },
  {
   "cell_type": "markdown",
   "id": "78d07c0b",
   "metadata": {},
   "source": [
    "Self is an instance or an object of a class. In Python this is explicitly included as the first parameter. \n",
    "The self variable in the init method refers to the newly created object while in other methods."
   ]
  },
  {
   "cell_type": "code",
   "execution_count": 19,
   "id": "040437d8",
   "metadata": {},
   "outputs": [],
   "source": [
    "class Employee:\n",
    "    def __init__(self,name,age,salary):\n",
    "        self.name = name\n",
    "        self.age = age\n",
    "        self.salary = 20000"
   ]
  },
  {
   "cell_type": "code",
   "execution_count": 20,
   "id": "a98efec1",
   "metadata": {},
   "outputs": [],
   "source": [
    "E1 = Employee(\"Adam\", 23, 20000)"
   ]
  },
  {
   "cell_type": "code",
   "execution_count": 21,
   "id": "01a9256c",
   "metadata": {},
   "outputs": [
    {
     "name": "stdout",
     "output_type": "stream",
     "text": [
      "Adam\n"
     ]
    }
   ],
   "source": [
    "print(E1.name)"
   ]
  },
  {
   "cell_type": "code",
   "execution_count": 22,
   "id": "c25318d4",
   "metadata": {},
   "outputs": [
    {
     "name": "stdout",
     "output_type": "stream",
     "text": [
      "20000\n"
     ]
    }
   ],
   "source": [
    "print(E1.salary)"
   ]
  },
  {
   "cell_type": "code",
   "execution_count": 23,
   "id": "c12a971b",
   "metadata": {},
   "outputs": [],
   "source": [
    "E2 = Employee(\"Alex\", 25, 20000)"
   ]
  },
  {
   "cell_type": "code",
   "execution_count": 24,
   "id": "65e3cec5",
   "metadata": {},
   "outputs": [
    {
     "name": "stdout",
     "output_type": "stream",
     "text": [
      "25\n"
     ]
    }
   ],
   "source": [
    "print(E2.age)"
   ]
  },
  {
   "cell_type": "markdown",
   "id": "12d5fe5e",
   "metadata": {},
   "source": [
    "Lambda is an anonymous function . This function can have any number of parameters but we can have only just one statement."
   ]
  },
  {
   "cell_type": "code",
   "execution_count": 25,
   "id": "199ffbad",
   "metadata": {},
   "outputs": [
    {
     "name": "stdout",
     "output_type": "stream",
     "text": [
      "11\n"
     ]
    }
   ],
   "source": [
    "a = lambda x,y : x+y\n",
    "print(a(5,6))"
   ]
  },
  {
   "cell_type": "markdown",
   "id": "7e22be29",
   "metadata": {},
   "source": [
    "Break statement allows loop termination when some condition is met and the control is transferred to next statement"
   ]
  },
  {
   "cell_type": "code",
   "execution_count": 28,
   "id": "7dbe6929",
   "metadata": {},
   "outputs": [
    {
     "name": "stdout",
     "output_type": "stream",
     "text": [
      "0\n",
      "1\n",
      "2\n"
     ]
    }
   ],
   "source": [
    "i = 0\n",
    "while i <= 100:\n",
    "    print(i)\n",
    "    i +=1\n",
    "    if i == 3:\n",
    "        break"
   ]
  },
  {
   "cell_type": "markdown",
   "id": "99d9f310",
   "metadata": {},
   "source": [
    "Continue allows skipping some part of the loop when some specific condition is met and the control is transferred to the beginning of the loop"
   ]
  },
  {
   "cell_type": "code",
   "execution_count": 30,
   "id": "21e5ce41",
   "metadata": {},
   "outputs": [
    {
     "name": "stdout",
     "output_type": "stream",
     "text": [
      "0\n",
      "1\n",
      "2\n",
      "4\n"
     ]
    }
   ],
   "source": [
    "for i in range (0,5):\n",
    "    if i == 3:\n",
    "        continue\n",
    "    print(i)    "
   ]
  },
  {
   "cell_type": "markdown",
   "id": "3c91cccb",
   "metadata": {},
   "source": [
    "Pass statement is used when you need some block of code syntactically, but you want to skip its execution. This is basically a null operation."
   ]
  },
  {
   "cell_type": "code",
   "execution_count": 36,
   "id": "f3fda50e",
   "metadata": {},
   "outputs": [
    {
     "name": "stdout",
     "output_type": "stream",
     "text": [
      "1\n",
      "3\n",
      "5\n",
      "7\n",
      "9\n"
     ]
    }
   ],
   "source": [
    "for i in range (1,11):\n",
    "    if i % 2 == 0:\n",
    "        pass\n",
    "    else:\n",
    "        print (i)"
   ]
  },
  {
   "cell_type": "code",
   "execution_count": null,
   "id": "2b6e5625",
   "metadata": {},
   "outputs": [],
   "source": []
  }
 ],
 "metadata": {
  "kernelspec": {
   "display_name": "Python 3",
   "language": "python",
   "name": "python3"
  },
  "language_info": {
   "codemirror_mode": {
    "name": "ipython",
    "version": 3
   },
   "file_extension": ".py",
   "mimetype": "text/x-python",
   "name": "python",
   "nbconvert_exporter": "python",
   "pygments_lexer": "ipython3",
   "version": "3.8.8"
  }
 },
 "nbformat": 4,
 "nbformat_minor": 5
}
